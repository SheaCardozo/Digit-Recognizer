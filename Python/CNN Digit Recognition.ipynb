{
 "cells": [
  {
   "cell_type": "code",
   "execution_count": 15,
   "metadata": {},
   "outputs": [],
   "source": [
    "#Load Libraries:\n",
    "import pandas as pd\n",
    "import numpy as np\n",
    "import matplotlib.pyplot as plt\n",
    "\n",
    "from sklearn.model_selection import train_test_split\n",
    "\n",
    "from keras.utils import to_categorical\n",
    "from keras.models import Sequential\n",
    "from keras.layers import Dense, Dropout, Flatten, Conv2D, MaxPool2D, BatchNormalization\n",
    "from keras.preprocessing.image import ImageDataGenerator\n",
    "from keras.callbacks import ReduceLROnPlateau"
   ]
  },
  {
   "cell_type": "code",
   "execution_count": 16,
   "metadata": {},
   "outputs": [],
   "source": [
    "#Import Data:\n",
    "train = pd.read_csv(\"train.csv\")\n",
    "test = pd.read_csv(\"test.csv\")"
   ]
  },
  {
   "cell_type": "code",
   "execution_count": 17,
   "metadata": {},
   "outputs": [],
   "source": [
    "#Set Randomstate:\n",
    "rs = 42"
   ]
  },
  {
   "cell_type": "code",
   "execution_count": 18,
   "metadata": {},
   "outputs": [],
   "source": [
    "#Some pre-processing:\n",
    "y_train = train['label']\n",
    "train.drop(labels=[\"label\"], axis=1, inplace=True) \n",
    "\n",
    "#Reshaping:\n",
    "train = train.values.reshape(-1,28,28,1)\n",
    "test = test.values.reshape(-1,28,28,1)\n",
    "\n",
    "#Normalization:\n",
    "train = train / 255.0\n",
    "test = test / 255.0\n",
    "\n",
    "#Set Categories:\n",
    "y_train = to_categorical(y_train, num_classes = 10)"
   ]
  },
  {
   "cell_type": "code",
   "execution_count": 19,
   "metadata": {},
   "outputs": [],
   "source": [
    "# Split the train and the validation sets:\n",
    "X_train, X_val, Y_train, Y_val = train_test_split(train, y_train, test_size = 0.1, random_state=rs)"
   ]
  },
  {
   "cell_type": "code",
   "execution_count": 20,
   "metadata": {},
   "outputs": [],
   "source": [
    "# Set the CNN model:\n",
    "\n",
    "model = Sequential()\n",
    "\n",
    "model.add(Conv2D(filters = 32, kernel_size = 3,padding = 'Same', \n",
    "                 activation ='relu', input_shape = (28,28,1)))\n",
    "model.add(BatchNormalization())\n",
    "model.add(Conv2D(filters = 32, kernel_size = 3,padding = 'Same', \n",
    "                 activation ='relu'))\n",
    "model.add(BatchNormalization())\n",
    "model.add(Conv2D(filters = 32, kernel_size = 5, strides = 2, padding = 'Same', \n",
    "                 activation ='relu'))\n",
    "model.add(BatchNormalization())\n",
    "model.add(Dropout(0.4))\n",
    "\n",
    "model.add(Conv2D(filters = 64, kernel_size = 3,padding = 'Same', \n",
    "                 activation ='relu'))\n",
    "model.add(BatchNormalization())\n",
    "model.add(Conv2D(filters = 64, kernel_size = 3,padding = 'Same', \n",
    "                 activation ='relu'))\n",
    "model.add(BatchNormalization())\n",
    "model.add(Conv2D(filters = 64, kernel_size = 5, strides = 2, padding = 'Same', \n",
    "                 activation ='relu'))\n",
    "model.add(BatchNormalization())\n",
    "model.add(Dropout(0.4))\n",
    "\n",
    "model.add(Conv2D(128, kernel_size = 4, activation='relu')) \n",
    "model.add(BatchNormalization())\n",
    "model.add(Flatten())\n",
    "model.add(Dense(256, activation = \"relu\"))\n",
    "model.add(Dropout(0.5))\n",
    "model.add(Dense(10, activation = \"softmax\"))\n",
    "\n",
    "model.compile(optimizer=\"adam\", loss=\"categorical_crossentropy\", metrics=[\"accuracy\"])"
   ]
  },
  {
   "cell_type": "code",
   "execution_count": 21,
   "metadata": {},
   "outputs": [],
   "source": [
    "# Set a learning rate annealer:\n",
    "learning_rate_reduction = ReduceLROnPlateau(monitor='val_accuracy', \n",
    "                                            patience=2, \n",
    "                                            verbose=1, \n",
    "                                            factor=0.5, \n",
    "                                            min_lr=0.000001)\n",
    "\n",
    "epochs = 30\n",
    "batch_size = 128"
   ]
  },
  {
   "cell_type": "code",
   "execution_count": 22,
   "metadata": {},
   "outputs": [],
   "source": [
    "#Employ data augmentation:\n",
    "datagen = ImageDataGenerator( \n",
    "        rotation_range=10,\n",
    "        zoom_range = 0.10,\n",
    "        width_shift_range=0.1,\n",
    "        height_shift_range=0.1)\n",
    "\n",
    "datagen.fit(X_train)"
   ]
  },
  {
   "cell_type": "code",
   "execution_count": 23,
   "metadata": {},
   "outputs": [
    {
     "name": "stdout",
     "output_type": "stream",
     "text": [
      "Epoch 1/30\n",
      " - 129s - loss: 0.4810 - accuracy: 0.8520 - val_loss: 11.9007 - val_accuracy: 0.0962\n",
      "Epoch 2/30\n",
      " - 131s - loss: 0.1367 - accuracy: 0.9598 - val_loss: 0.0909 - val_accuracy: 0.9717\n",
      "Epoch 3/30\n",
      " - 128s - loss: 0.1064 - accuracy: 0.9690 - val_loss: 0.0619 - val_accuracy: 0.9862\n",
      "Epoch 4/30\n",
      " - 129s - loss: 0.0912 - accuracy: 0.9734 - val_loss: 0.0380 - val_accuracy: 0.9893\n",
      "Epoch 5/30\n",
      " - 128s - loss: 0.0764 - accuracy: 0.9776 - val_loss: 0.0427 - val_accuracy: 0.9905\n",
      "Epoch 6/30\n",
      " - 129s - loss: 0.0727 - accuracy: 0.9791 - val_loss: 0.0465 - val_accuracy: 0.9888\n",
      "Epoch 7/30\n",
      " - 127s - loss: 0.0646 - accuracy: 0.9822 - val_loss: 0.0477 - val_accuracy: 0.9890\n",
      "\n",
      "Epoch 00007: ReduceLROnPlateau reducing learning rate to 0.0005000000237487257.\n",
      "Epoch 8/30\n",
      " - 130s - loss: 0.0483 - accuracy: 0.9859 - val_loss: 0.0319 - val_accuracy: 0.9886\n",
      "Epoch 9/30\n",
      " - 128s - loss: 0.0406 - accuracy: 0.9882 - val_loss: 0.0278 - val_accuracy: 0.9921\n",
      "Epoch 10/30\n",
      " - 130s - loss: 0.0386 - accuracy: 0.9883 - val_loss: 0.0211 - val_accuracy: 0.9940\n",
      "Epoch 11/30\n",
      " - 128s - loss: 0.0376 - accuracy: 0.9895 - val_loss: 0.0185 - val_accuracy: 0.9940\n",
      "Epoch 12/30\n",
      " - 131s - loss: 0.0382 - accuracy: 0.9889 - val_loss: 0.0257 - val_accuracy: 0.9926\n",
      "\n",
      "Epoch 00012: ReduceLROnPlateau reducing learning rate to 0.0002500000118743628.\n",
      "Epoch 13/30\n",
      " - 127s - loss: 0.0278 - accuracy: 0.9919 - val_loss: 0.0212 - val_accuracy: 0.9936\n",
      "Epoch 14/30\n",
      " - 129s - loss: 0.0269 - accuracy: 0.9920 - val_loss: 0.0206 - val_accuracy: 0.9926\n",
      "\n",
      "Epoch 00014: ReduceLROnPlateau reducing learning rate to 0.0001250000059371814.\n",
      "Epoch 15/30\n",
      " - 127s - loss: 0.0218 - accuracy: 0.9936 - val_loss: 0.0174 - val_accuracy: 0.9945\n",
      "Epoch 16/30\n",
      " - 129s - loss: 0.0228 - accuracy: 0.9934 - val_loss: 0.0161 - val_accuracy: 0.9943\n",
      "Epoch 17/30\n",
      " - 130s - loss: 0.0214 - accuracy: 0.9937 - val_loss: 0.0181 - val_accuracy: 0.9955\n",
      "Epoch 18/30\n",
      " - 129s - loss: 0.0224 - accuracy: 0.9931 - val_loss: 0.0167 - val_accuracy: 0.9950\n",
      "Epoch 19/30\n",
      " - 128s - loss: 0.0214 - accuracy: 0.9936 - val_loss: 0.0157 - val_accuracy: 0.9952\n",
      "\n",
      "Epoch 00019: ReduceLROnPlateau reducing learning rate to 6.25000029685907e-05.\n",
      "Epoch 20/30\n",
      " - 130s - loss: 0.0190 - accuracy: 0.9943 - val_loss: 0.0157 - val_accuracy: 0.9950\n",
      "Epoch 21/30\n",
      " - 128s - loss: 0.0186 - accuracy: 0.9942 - val_loss: 0.0154 - val_accuracy: 0.9940\n",
      "\n",
      "Epoch 00021: ReduceLROnPlateau reducing learning rate to 3.125000148429535e-05.\n",
      "Epoch 22/30\n",
      " - 130s - loss: 0.0172 - accuracy: 0.9947 - val_loss: 0.0142 - val_accuracy: 0.9945\n",
      "Epoch 23/30\n",
      " - 127s - loss: 0.0174 - accuracy: 0.9948 - val_loss: 0.0143 - val_accuracy: 0.9948\n",
      "\n",
      "Epoch 00023: ReduceLROnPlateau reducing learning rate to 1.5625000742147677e-05.\n",
      "Epoch 24/30\n",
      " - 130s - loss: 0.0173 - accuracy: 0.9950 - val_loss: 0.0140 - val_accuracy: 0.9950\n",
      "Epoch 25/30\n",
      " - 130s - loss: 0.0158 - accuracy: 0.9956 - val_loss: 0.0144 - val_accuracy: 0.9952\n",
      "\n",
      "Epoch 00025: ReduceLROnPlateau reducing learning rate to 7.812500371073838e-06.\n",
      "Epoch 26/30\n",
      " - 129s - loss: 0.0168 - accuracy: 0.9949 - val_loss: 0.0143 - val_accuracy: 0.9952\n",
      "Epoch 27/30\n",
      " - 128s - loss: 0.0157 - accuracy: 0.9953 - val_loss: 0.0145 - val_accuracy: 0.9952\n",
      "\n",
      "Epoch 00027: ReduceLROnPlateau reducing learning rate to 3.906250185536919e-06.\n",
      "Epoch 28/30\n",
      " - 130s - loss: 0.0143 - accuracy: 0.9955 - val_loss: 0.0146 - val_accuracy: 0.9955\n",
      "Epoch 29/30\n",
      " - 129s - loss: 0.0146 - accuracy: 0.9954 - val_loss: 0.0146 - val_accuracy: 0.9952\n",
      "\n",
      "Epoch 00029: ReduceLROnPlateau reducing learning rate to 1.9531250927684596e-06.\n",
      "Epoch 30/30\n",
      " - 130s - loss: 0.0143 - accuracy: 0.9954 - val_loss: 0.0147 - val_accuracy: 0.9955\n"
     ]
    }
   ],
   "source": [
    "#Training!:\n",
    "history = model.fit_generator(datagen.flow(X_train,Y_train, batch_size=batch_size),\n",
    "                              epochs = epochs, validation_data = (X_val,Y_val),\n",
    "                              verbose = 2, steps_per_epoch=X_train.shape[0] // batch_size\n",
    "                              , callbacks=[learning_rate_reduction])"
   ]
  },
  {
   "cell_type": "code",
   "execution_count": 25,
   "metadata": {},
   "outputs": [
    {
     "data": {
      "image/png": "[encoded data removed]",
      "text/plain": [
       "<Figure size 432x288 with 2 Axes>"
      ]
     },
     "metadata": {
      "needs_background": "light"
     },
     "output_type": "display_data"
    }
   ],
   "source": [
    "# Plot the loss and accuracy curves for training and validation: \n",
    "fig, ax = plt.subplots(2,1)\n",
    "ax[0].plot(history.history['loss'], color='b', label=\"Training loss\")\n",
    "ax[0].plot(history.history['val_loss'], color='r', label=\"validation loss\",axes =ax[0])\n",
    "legend = ax[0].legend(loc='best', shadow=True)\n",
    "\n",
    "ax[1].plot(history.history['accuracy'], color='b', label=\"Training accuracy\")\n",
    "ax[1].plot(history.history['val_accuracy'], color='r',label=\"Validation accuracy\")\n",
    "legend = ax[1].legend(loc='best', shadow=True)"
   ]
  },
  {
   "cell_type": "code",
   "execution_count": 26,
   "metadata": {},
   "outputs": [],
   "source": [
    "#Predict:\n",
    "results = model.predict(test)\n",
    "\n",
    "#Select prediction with maximum probability:\n",
    "results = np.argmax(results,axis = 1)\n",
    "\n",
    "results = pd.Series(results,name=\"Label\")"
   ]
  },
  {
   "cell_type": "code",
   "execution_count": 27,
   "metadata": {},
   "outputs": [],
   "source": [
    "submission = pd.concat([pd.Series(range(1,28001),name = \"ImageId\"),results],axis = 1)\n",
    "\n",
    "submission.to_csv(\"test_pred.csv\",index=False)"
   ]
  },
  {
   "cell_type": "code",
   "execution_count": 28,
   "metadata": {},
   "outputs": [],
   "source": [
    "#Save model:\n",
    "model.save('my_model', save_format=\"tf\")"
   ]
  },
  {
   "cell_type": "code",
   "execution_count": 1,
   "metadata": {},
   "outputs": [
    {
     "ename": "NameError",
     "evalue": "name 'tf' is not defined",
     "output_type": "error",
     "traceback": [
      "\u001b[1;31m---------------------------------------------------------------------------\u001b[0m",
      "\u001b[1;31mNameError\u001b[0m                                 Traceback (most recent call last)",
      "\u001b[1;32m<ipython-input-1-b871db97ee04>\u001b[0m in \u001b[0;36m<module>\u001b[1;34m\u001b[0m\n\u001b[0;32m      1\u001b[0m \u001b[1;31m#Convert to TFLite format for deployment:\u001b[0m\u001b[1;33m\u001b[0m\u001b[1;33m\u001b[0m\u001b[1;33m\u001b[0m\u001b[0m\n\u001b[1;32m----> 2\u001b[1;33m \u001b[0mconverter\u001b[0m \u001b[1;33m=\u001b[0m \u001b[0mtf\u001b[0m\u001b[1;33m.\u001b[0m\u001b[0mlite\u001b[0m\u001b[1;33m.\u001b[0m\u001b[0mTFLiteConverter\u001b[0m\u001b[1;33m.\u001b[0m\u001b[0mfrom_saved_model\u001b[0m\u001b[1;33m(\u001b[0m\u001b[1;34m\"my_model\"\u001b[0m\u001b[1;33m)\u001b[0m\u001b[1;33m\u001b[0m\u001b[1;33m\u001b[0m\u001b[0m\n\u001b[0m\u001b[0;32m      3\u001b[0m \u001b[0mtflite_model\u001b[0m \u001b[1;33m=\u001b[0m \u001b[0mconverter\u001b[0m\u001b[1;33m.\u001b[0m\u001b[0mconvert\u001b[0m\u001b[1;33m(\u001b[0m\u001b[1;33m)\u001b[0m\u001b[1;33m\u001b[0m\u001b[1;33m\u001b[0m\u001b[0m\n",
      "\u001b[1;31mNameError\u001b[0m: name 'tf' is not defined"
     ]
    }
   ],
   "source": [
    "#Convert to TFLite format for deployment:\n",
    "converter = tf.lite.TFLiteConverter.from_saved_model(\"my_model\")\n",
    "tflite_model = converter.convert()"
   ]
  },
  {
   "cell_type": "code",
   "execution_count": null,
   "metadata": {},
   "outputs": [],
   "source": []
  }
 ],
 "metadata": {
  "kernelspec": {
   "display_name": "Python 3",
   "language": "python",
   "name": "python3"
  },
  "language_info": {
   "codemirror_mode": {
    "name": "ipython",
    "version": 3
   },
   "file_extension": ".py",
   "mimetype": "text/x-python",
   "name": "python",
   "nbconvert_exporter": "python",
   "pygments_lexer": "ipython3",
   "version": "3.7.3"
  }
 },
 "nbformat": 4,
 "nbformat_minor": 2
}
